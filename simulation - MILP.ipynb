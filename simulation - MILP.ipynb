{
 "cells": [
  {
   "cell_type": "code",
   "execution_count": 1,
   "id": "17de1102",
   "metadata": {},
   "outputs": [],
   "source": [
    "#pip install pulp\n",
    "from pulp import *\n",
    "import random"
   ]
  },
  {
   "cell_type": "code",
   "execution_count": 2,
   "id": "4517f9c6",
   "metadata": {},
   "outputs": [],
   "source": [
    "m = 5 #number of potential facility locations\n",
    "n = 6 #number of demand points\n",
    "\n",
    "#k=2 #If there are a Fixed total number of facilities to be established.\n",
    "\n",
    "#Costs of establishing facilities (In potential locations)\n",
    "f = [12, 5, 3, 7, 9]\n",
    "\n",
    "#Costs of serving demand points. cij: Transportation cost, town i to facility j\n",
    "c = [[2, 3, 6, 7, 1],\n",
    "[0, 5, 8, 4, 12],\n",
    "[11, 6, 14, 5, 8],\n",
    "[19, 18, 21, 16, 13],\n",
    "[3, 9, 8, 7, 10],\n",
    "[4, 7, 9, 6, 0]]\n",
    "            \n",
    "\n",
    "#ID to towns (0 to n-1) and Facilities (0 to m-1)\n",
    "Town = list(range(0, n)) #number of towns\n",
    "Facility = list(range(0, m)) #number of facilities\n"
   ]
  },
  {
   "cell_type": "code",
   "execution_count": 3,
   "id": "d5984bbe",
   "metadata": {},
   "outputs": [],
   "source": [
    "#Defining Decision Variables\n",
    "\n",
    "#Define decision variable yj.\n",
    "\n",
    "y = LpVariable.dicts(\"y\", Facility, 0, 1, LpBinary) #0 or 1, binary variable.\n",
    "\n",
    "#Define decision variable xij.\n",
    "x = LpVariable.dicts(\"x\", [(i,j) for i in Town for j in Facility], 0, 1) \n",
    "#Assume xij is a continuous variable, between 0 and 1. So haven't mentioned LpBinary.\n",
    "\n"
   ]
  },
  {
   "cell_type": "code",
   "execution_count": 4,
   "id": "0ea4255f",
   "metadata": {},
   "outputs": [],
   "source": [
    "#Problem\n",
    "flp = LpProblem(\"LP_Problem\", LpMinimize)\n",
    "\n",
    "# Decision variables:\n",
    "# 0 <= xij <=1 (If the ith town is serviced by the jth facility)\n",
    "# For each i: sum(xij) = 1.\n",
    "# yj: If jth facility is opened or not. (yj is 0 or 1)\n",
    "# Constraint: sum(yj) <= k (If take k)\n",
    "# Additional constraint: If yj = 0, xij = 0 --> xij <= yj\n",
    "\n",
    "\n",
    "#Set up the objective function in flp\n",
    "\n",
    "flp += lpSum(f[j]*y[j] for j in Facility)+lpSum(x[(i, j)]*c[i][j] for i in Town for j in Facility)\n",
    "\n",
    "#Constraints: \n",
    "# 1. Sum(xij) = 1\n",
    "# 2. Sum(yj) = k (k facities opened) :: If taking k.\n",
    "# 3. If (yj=0), all xij=0 ---> xij<=yj.\n",
    "\n",
    "#1\n",
    "for i in Town:\n",
    "    flp += lpSum(x[(i, j)] for j in Facility) == 1\n",
    "\n",
    "\n",
    "#2 :: If k is being involved\n",
    "# for j in Facility:\n",
    "#     flp += lpSum(y[j] for j in Facility) == k\n",
    "\n",
    "#3\n",
    "for i in Town:\n",
    "    for j in Facility:\n",
    "        flp += x[(i,j)] <= y[j]\n",
    "\n",
    "\n"
   ]
  },
  {
   "cell_type": "code",
   "execution_count": 5,
   "id": "d862f5fd",
   "metadata": {},
   "outputs": [
    {
     "name": "stdout",
     "output_type": "stream",
     "text": [
      "Welcome to the CBC MILP Solver \n",
      "Version: 2.10.3 \n",
      "Build Date: Dec 15 2019 \n",
      "\n",
      "command line - /Users/pranavv3/opt/anaconda3/lib/python3.9/site-packages/pulp/apis/../solverdir/cbc/osx/64/cbc /var/folders/hg/0pz349td64l99xls4nwlkwc00000gn/T/33acaee387e348ea9cf07d75004ad88c-pulp.mps timeMode elapsed branch printingOptions all solution /var/folders/hg/0pz349td64l99xls4nwlkwc00000gn/T/33acaee387e348ea9cf07d75004ad88c-pulp.sol (default strategy 1)\n",
      "At line 2 NAME          MODEL\n",
      "At line 3 ROWS\n",
      "At line 41 COLUMNS\n",
      "At line 175 RHS\n",
      "At line 212 BOUNDS\n",
      "At line 248 ENDATA\n",
      "Problem MODEL has 36 rows, 35 columns and 90 elements\n",
      "Coin0008I MODEL read with 0 errors\n",
      "Option for timeMode changed from cpu to elapsed\n",
      "Continuous objective value is 45.5 - 0.00 seconds\n",
      "Cgl0004I processed model has 36 rows, 35 columns (5 integer (5 of which binary)) and 90 elements\n",
      "Cbc0038I Initial state - 3 integers unsatisfied sum - 1.5\n",
      "Cbc0038I Pass   1: suminf.    0.00000 (0) obj. 51 iterations 9\n",
      "Cbc0038I Solution found of 51\n",
      "Cbc0038I Relaxing continuous gives 51\n",
      "Cbc0038I Before mini branch and bound, 2 integers at bound fixed and 16 continuous\n",
      "Cbc0038I Full problem 36 rows 35 columns, reduced to 16 rows 13 columns\n",
      "Cbc0038I Mini branch and bound improved solution from 51 to 46 (0.01 seconds)\n",
      "Cbc0038I Round again with cutoff of 45.95\n",
      "Cbc0038I Reduced cost fixing fixed 2 variables on major pass 2\n",
      "Cbc0038I Pass   2: suminf.    1.37728 (3) obj. 45.95 iterations 7\n",
      "Cbc0038I Pass   3: suminf.    0.15003 (3) obj. 45.95 iterations 7\n",
      "Cbc0038I Pass   4: suminf.    0.15003 (3) obj. 45.95 iterations 2\n",
      "Cbc0038I Pass   5: suminf.    0.15003 (3) obj. 45.95 iterations 8\n",
      "Cbc0038I Pass   6: suminf.    0.15003 (3) obj. 45.95 iterations 2\n",
      "Cbc0038I Pass   7: suminf.    0.15003 (3) obj. 45.95 iterations 0\n",
      "Cbc0038I Pass   8: suminf.    0.15003 (3) obj. 45.95 iterations 0\n",
      "Cbc0038I Pass   9: suminf.    0.15003 (3) obj. 45.95 iterations 0\n",
      "Cbc0038I Pass  10: suminf.    0.15003 (3) obj. 45.95 iterations 0\n",
      "Cbc0038I Pass  11: suminf.    0.15003 (3) obj. 45.95 iterations 0\n",
      "Cbc0038I Pass  12: suminf.    0.15003 (3) obj. 45.95 iterations 0\n",
      "Cbc0038I Pass  13: suminf.    0.15003 (3) obj. 45.95 iterations 0\n",
      "Cbc0038I Pass  14: suminf.    0.15003 (3) obj. 45.95 iterations 0\n",
      "Cbc0038I Pass  15: suminf.    0.15003 (3) obj. 45.95 iterations 0\n",
      "Cbc0038I Pass  16: suminf.    0.15003 (3) obj. 45.95 iterations 0\n",
      "Cbc0038I Pass  17: suminf.    0.15003 (3) obj. 45.95 iterations 0\n",
      "Cbc0038I Pass  18: suminf.    0.15003 (3) obj. 45.95 iterations 0\n",
      "Cbc0038I Pass  19: suminf.    0.15003 (3) obj. 45.95 iterations 0\n",
      "Cbc0038I Pass  20: suminf.    0.15003 (3) obj. 45.95 iterations 0\n",
      "Cbc0038I Pass  21: suminf.    0.15003 (3) obj. 45.95 iterations 0\n",
      "Cbc0038I Pass  22: suminf.    0.15003 (3) obj. 45.95 iterations 0\n",
      "Cbc0038I Pass  23: suminf.    0.15003 (3) obj. 45.95 iterations 0\n",
      "Cbc0038I Pass  24: suminf.    0.15003 (3) obj. 45.95 iterations 0\n",
      "Cbc0038I Pass  25: suminf.    0.15003 (3) obj. 45.95 iterations 0\n",
      "Cbc0038I Pass  26: suminf.    0.15003 (3) obj. 45.95 iterations 0\n",
      "Cbc0038I Pass  27: suminf.    0.15003 (3) obj. 45.95 iterations 0\n",
      "Cbc0038I Pass  28: suminf.    0.15003 (3) obj. 45.95 iterations 0\n",
      "Cbc0038I Pass  29: suminf.    0.15003 (3) obj. 45.95 iterations 0\n",
      "Cbc0038I Pass  30: suminf.    0.15003 (3) obj. 45.95 iterations 0\n",
      "Cbc0038I Pass  31: suminf.    0.15003 (3) obj. 45.95 iterations 0\n",
      "Cbc0038I No solution found this major pass\n",
      "Cbc0038I Before mini branch and bound, 2 integers at bound fixed and 16 continuous\n",
      "Cbc0038I Full problem 36 rows 35 columns, reduced to 16 rows 13 columns\n",
      "Cbc0038I Mini branch and bound did not improve solution (0.01 seconds)\n",
      "Cbc0038I After 0.01 seconds - Feasibility pump exiting with objective of 46 - took 0.00 seconds\n",
      "Cbc0012I Integer solution of 46 found by feasibility pump after 0 iterations and 0 nodes (0.01 seconds)\n",
      "Cbc0038I Full problem 36 rows 35 columns, reduced to 24 rows 21 columns\n",
      "Cbc0031I 1 added rows had average density of 7\n",
      "Cbc0013I At root node, 4 cuts changed objective from 45.5 to 46 in 1 passes\n",
      "Cbc0014I Cut generator 0 (Probing) - 0 row cuts average 0.0 elements, 0 column cuts (0 active)  in 0.000 seconds - new frequency is -100\n",
      "Cbc0014I Cut generator 1 (Gomory) - 1 row cuts average 12.0 elements, 0 column cuts (0 active)  in 0.000 seconds - new frequency is 1\n",
      "Cbc0014I Cut generator 2 (Knapsack) - 0 row cuts average 0.0 elements, 0 column cuts (0 active)  in 0.000 seconds - new frequency is -100\n",
      "Cbc0014I Cut generator 3 (Clique) - 0 row cuts average 0.0 elements, 0 column cuts (0 active)  in 0.000 seconds - new frequency is -100\n",
      "Cbc0014I Cut generator 4 (MixedIntegerRounding2) - 0 row cuts average 0.0 elements, 0 column cuts (0 active)  in 0.000 seconds - new frequency is -100\n",
      "Cbc0014I Cut generator 5 (FlowCover) - 0 row cuts average 0.0 elements, 0 column cuts (0 active)  in 0.000 seconds - new frequency is -100\n",
      "Cbc0014I Cut generator 6 (TwoMirCuts) - 3 row cuts average 7.0 elements, 0 column cuts (0 active)  in 0.000 seconds - new frequency is -100\n",
      "Cbc0001I Search completed - best objective 46, took 0 iterations and 0 nodes (0.01 seconds)\n",
      "Cbc0035I Maximum depth 0, 2 variables fixed on reduced cost\n",
      "Cuts at root node changed objective from 45.5 to 46\n",
      "Probing was tried 1 times and created 0 cuts of which 0 were active after adding rounds of cuts (0.000 seconds)\n",
      "Gomory was tried 1 times and created 1 cuts of which 0 were active after adding rounds of cuts (0.000 seconds)\n",
      "Knapsack was tried 1 times and created 0 cuts of which 0 were active after adding rounds of cuts (0.000 seconds)\n",
      "Clique was tried 1 times and created 0 cuts of which 0 were active after adding rounds of cuts (0.000 seconds)\n",
      "MixedIntegerRounding2 was tried 1 times and created 0 cuts of which 0 were active after adding rounds of cuts (0.000 seconds)\n",
      "FlowCover was tried 1 times and created 0 cuts of which 0 were active after adding rounds of cuts (0.000 seconds)\n",
      "TwoMirCuts was tried 1 times and created 3 cuts of which 0 were active after adding rounds of cuts (0.000 seconds)\n",
      "ZeroHalf was tried 1 times and created 0 cuts of which 0 were active after adding rounds of cuts (0.000 seconds)\n",
      "\n",
      "Result - Optimal solution found\n",
      "\n",
      "Objective value:                46.00000000\n",
      "Enumerated nodes:               0\n",
      "Total iterations:               0\n",
      "Time (CPU seconds):             0.01\n",
      "Time (Wallclock seconds):       0.01\n",
      "\n",
      "Option for printingOptions changed from normal to all\n",
      "Total time (CPU seconds):       0.01   (Wallclock seconds):       0.01\n",
      "\n"
     ]
    },
    {
     "data": {
      "text/plain": [
       "1"
      ]
     },
     "execution_count": 5,
     "metadata": {},
     "output_type": "execute_result"
    }
   ],
   "source": [
    "flp.solve()\n"
   ]
  },
  {
   "cell_type": "code",
   "execution_count": 6,
   "id": "b4a2fce2",
   "metadata": {},
   "outputs": [
    {
     "name": "stdout",
     "output_type": "stream",
     "text": [
      "Solution Status =  Optimal\n"
     ]
    }
   ],
   "source": [
    "print(\"Solution Status = \", LpStatus[flp.status])\n"
   ]
  },
  {
   "cell_type": "code",
   "execution_count": 7,
   "id": "bfc47666",
   "metadata": {},
   "outputs": [
    {
     "name": "stdout",
     "output_type": "stream",
     "text": [
      "Total Cost =  46.0\n"
     ]
    }
   ],
   "source": [
    "# Print Value of the Objective Function in the optimal case\n",
    "print(\"Total Cost = \", value(flp.objective))\n"
   ]
  },
  {
   "cell_type": "code",
   "execution_count": 8,
   "id": "e21c8b19",
   "metadata": {},
   "outputs": [
    {
     "name": "stdout",
     "output_type": "stream",
     "text": [
      "x_(0,_0) = 0.0\n",
      "x_(0,_1) = 0.0\n",
      "x_(0,_2) = 0.0\n",
      "x_(0,_3) = 0.0\n",
      "x_(0,_4) = 1.0\n",
      "x_(1,_0) = 0.0\n",
      "x_(1,_1) = 0.0\n",
      "x_(1,_2) = 0.0\n",
      "x_(1,_3) = 1.0\n",
      "x_(1,_4) = 0.0\n",
      "x_(2,_0) = 0.0\n",
      "x_(2,_1) = 0.0\n",
      "x_(2,_2) = 0.0\n",
      "x_(2,_3) = 1.0\n",
      "x_(2,_4) = 0.0\n",
      "x_(3,_0) = 0.0\n",
      "x_(3,_1) = 0.0\n",
      "x_(3,_2) = 0.0\n",
      "x_(3,_3) = 0.0\n",
      "x_(3,_4) = 1.0\n",
      "x_(4,_0) = 0.0\n",
      "x_(4,_1) = 0.0\n",
      "x_(4,_2) = 0.0\n",
      "x_(4,_3) = 1.0\n",
      "x_(4,_4) = 0.0\n",
      "x_(5,_0) = 0.0\n",
      "x_(5,_1) = 0.0\n",
      "x_(5,_2) = 0.0\n",
      "x_(5,_3) = 0.0\n",
      "x_(5,_4) = 1.0\n",
      "y_0 = 0.0\n",
      "y_1 = 0.0\n",
      "y_2 = 0.0\n",
      "y_3 = 1.0\n",
      "y_4 = 1.0\n"
     ]
    }
   ],
   "source": [
    "#If x(i, j)=1, Town i is allocated Facility j. NOTE:: i, j are 0-indexed in this case\n",
    "for v in flp.variables():\n",
    "    print(v.name, \"=\", v.varValue)\n"
   ]
  },
  {
   "cell_type": "code",
   "execution_count": 9,
   "id": "0fc9f574",
   "metadata": {},
   "outputs": [
    {
     "name": "stdout",
     "output_type": "stream",
     "text": [
      "Estalish Facility at site =  3\n",
      "Estalish Facility at site =  4\n"
     ]
    }
   ],
   "source": [
    "# Print the solution of Binary Decision Variables\n",
    "Tolerance = 0.0001\n",
    "for j in Facility:\n",
    "    if y[j].varValue > Tolerance:\n",
    "        print(\"Estalish Facility at site = \", j)\n"
   ]
  },
  {
   "cell_type": "code",
   "execution_count": null,
   "id": "326b0abd",
   "metadata": {},
   "outputs": [],
   "source": []
  }
 ],
 "metadata": {
  "kernelspec": {
   "display_name": "Python 3 (ipykernel)",
   "language": "python",
   "name": "python3"
  },
  "language_info": {
   "codemirror_mode": {
    "name": "ipython",
    "version": 3
   },
   "file_extension": ".py",
   "mimetype": "text/x-python",
   "name": "python",
   "nbconvert_exporter": "python",
   "pygments_lexer": "ipython3",
   "version": "3.9.7"
  }
 },
 "nbformat": 4,
 "nbformat_minor": 5
}
